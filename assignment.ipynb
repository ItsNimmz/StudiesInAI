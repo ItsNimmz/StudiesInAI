{
 "cells": [
  {
   "cell_type": "markdown",
   "metadata": {},
   "source": [
    "Part 1 : Recommending Hashtags"
   ]
  },
  {
   "cell_type": "code",
   "execution_count": 58,
   "metadata": {},
   "outputs": [
    {
     "name": "stdout",
     "output_type": "stream",
     "text": [
      "2024-04-11 17:18:40 INFO Processing post with ID: 9012\n",
      "2024-04-11 17:18:40 DEBUG Recommended hashtags: #mustread #historicalfiction #fiction\n",
      "2024-04-11 17:18:40 DEBUG Number of hashtags: 3\n"
     ]
    }
   ],
   "source": [
    "import pandas as pd\n",
    "import numpy as np\n",
    "from datetime import datetime\n",
    "\n",
    "# Function to read data from a CSV file using pandas\n",
    "def read_csv(file_name):\n",
    "    return pd.read_csv(file_name)\n",
    "\n",
    "# Read data from post_data CSV file\n",
    "post_data = read_csv(\"post_data.csv\")\n",
    "\n",
    "# Read content from the user\n",
    "user_content = input(\"Enter your content: \")\n",
    "\n",
    "# Get current timestamp\n",
    "timestamp = datetime.now().strftime(\"%Y-%m-%d %H:%M:%S\")\n",
    "\n",
    "# Analyze content to find associated post ID\n",
    "associated_post_id = None\n",
    "for idx, row in post_data.iterrows():\n",
    "    if user_content.lower() == row[\"content\"].lower():\n",
    "        associated_post_id = row[\"post_id\"]\n",
    "        break\n",
    "\n",
    "# If associated post ID is found, recommend hashtags\n",
    "if associated_post_id is not None:\n",
    "    # Log recommendation\n",
    "    log_message = f\"{timestamp} INFO Processing post with ID: {associated_post_id}\"\n",
    "    print(log_message)\n",
    "    \n",
    "    log_message = f\"{timestamp} DEBUG Recommended hashtags: {' '.join(post['hashtags'].split(' '))}\"\n",
    "    print(log_message)\n",
    "\n",
    "    post_hashtags = post_data.loc[post_data['post_id'] == associated_post_id, 'hashtags'].iloc[0]\n",
    "    #num_hashtags = np.array(recommended_hashtags).size\n",
    "    hashtags_array = np.array(post_hashtags.split())\n",
    "\n",
    "    # Calculate the number of hashtags\n",
    "    num_hashtags = hashtags_array.size\n",
    "    print(format_log_message(timestamp, \"DEBUG\", f\"Number of hashtags: {num_hashtags}\"))\n",
    "\n",
    "else:\n",
    "    print(\"No associated post found.\")\n"
   ]
  },
  {
   "cell_type": "markdown",
   "metadata": {},
   "source": [
    "Part 2 : Updating user feedback"
   ]
  },
  {
   "cell_type": "code",
   "execution_count": 63,
   "metadata": {},
   "outputs": [
    {
     "name": "stdout",
     "output_type": "stream",
     "text": [
      "2024-04-11 17:34:24 INFO User feedback updated for post 9012\n",
      "2024-04-11 17:34:24 WARN User feedback received for post 9012: fun\n"
     ]
    }
   ],
   "source": [
    "\n",
    "\n",
    "# Function to write data to a CSV file using pandas\n",
    "def write_csv(data, file_name):\n",
    "    data.to_csv(file_name, index=False)\n",
    "\n",
    "# Function to format log message\n",
    "def format_log_message(timestamp, log_level, message):\n",
    "    return f\"{timestamp} {log_level} {message}\"\n",
    "\n",
    "# Read existing user feedback data from user_feedback.csv\n",
    "user_feedback_data = read_csv(\"user_feedback.csv\")\n",
    "\n",
    "# Get user feedback\n",
    "user_feedback = input(\"Enter your feedback: \")\n",
    "\n",
    "# Get current timestamp\n",
    "timestamp = datetime.now().strftime(\"%Y-%m-%d %H:%M:%S\")\n",
    "\n",
    "\n",
    "# Get the index of the existing feedback for the associated post ID\n",
    "existing_feedback_index = user_feedback_data[user_feedback_data['post_id'] == associated_post_id].index\n",
    "\n",
    "# If there's existing feedback, replace it; otherwise, append a new entry\n",
    "if not existing_feedback_index.empty:\n",
    "    user_feedback_data.loc[existing_feedback_index, 'feedback'] = user_feedback\n",
    "else:\n",
    "    new_feedback = {\"post_id\": associated_post_id, \"user_id\": \"userX\", \"feedback\": user_feedback}\n",
    "    user_feedback_data = user_feedback_data.append(new_feedback, ignore_index=True)\n",
    "\n",
    "# Write the updated DataFrame back to user_feedback.csv\n",
    "write_csv(user_feedback_data, \"user_feedback.csv\")\n",
    "\n",
    "# Log feedback update\n",
    "log_message = format_log_message(timestamp, \"INFO\", f\"User feedback updated for post {associated_post_id}\")\n",
    "print(log_message)\n",
    "\n",
    "# Get current timestamp\n",
    "timestamp = datetime.now().strftime(\"%Y-%m-%d %H:%M:%S\")\n",
    "\n",
    "# Print the log message\n",
    "print(f\"{timestamp} WARN User feedback received for post {associated_post_id}: {user_feedback}\")\n",
    "\n",
    "\n"
   ]
  }
 ],
 "metadata": {
  "kernelspec": {
   "display_name": "Python 3",
   "language": "python",
   "name": "python3"
  },
  "language_info": {
   "codemirror_mode": {
    "name": "ipython",
    "version": 3
   },
   "file_extension": ".py",
   "mimetype": "text/x-python",
   "name": "python",
   "nbconvert_exporter": "python",
   "pygments_lexer": "ipython3",
   "version": "3.12.2"
  }
 },
 "nbformat": 4,
 "nbformat_minor": 2
}
